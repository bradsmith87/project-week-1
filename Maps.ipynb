{
 "cells": [
  {
   "cell_type": "markdown",
   "metadata": {},
   "source": [
    "# Australia's Favourite Restaurants- Maps"
   ]
  },
  {
   "cell_type": "markdown",
   "metadata": {},
   "source": [
    "Zomato, Gourmet Traveller and the Good Food Guide Data Plotted using Google Maps"
   ]
  },
  {
   "cell_type": "code",
   "execution_count": 1,
   "metadata": {},
   "outputs": [],
   "source": [
    "#Dependencies\n",
    "import pandas as pd\n",
    "import requests\n",
    "import json\n",
    "import numpy as np\n",
    "import matplotlib.pyplot as plt\n",
    "import gmaps\n",
    "from api_key import apikey \n",
    "from api_key import g_key \n",
    "from pytrends.request import TrendReq\n",
    "%matplotlib widget"
   ]
  },
  {
   "cell_type": "code",
   "execution_count": 2,
   "metadata": {},
   "outputs": [
    {
     "name": "stdout",
     "output_type": "stream",
     "text": [
      "<Response [200]>\n"
     ]
    }
   ],
   "source": [
    "#Set Search URL\n",
    "search_url = f\"https://developers.zomato.com/api/v2.1/search?entity_id=259&entity_type=city\"\n",
    "\n",
    "#Create Requests\n",
    "print(requests.get(search_url, headers={\"user-key\" : apikey}))\n",
    "\n",
    "#Get Data and Convert into JSON\n",
    "data = requests.get(search_url, headers={\"user-key\" : apikey}).json()"
   ]
  },
  {
   "cell_type": "code",
   "execution_count": 3,
   "metadata": {},
   "outputs": [],
   "source": [
    "#Set City IDs\n",
    "cityid = [296,259,260]\n",
    "\n",
    "#Create Empty Lists\n",
    "rest_id_list = []\n",
    "rest_name_list =[]\n",
    "rest_cuis_list = []\n",
    "rest_local_list = []\n",
    "rest_city_list = []\n",
    "rest_lat_list = []\n",
    "rest_long_list = []\n",
    "rest_rate_list = []\n",
    "rest_delivery_list = []\n",
    "rest_ratenum_list = []\n",
    "\n",
    "resto_num = 20\n",
    "loop_num = 0\n",
    "show_page = 0\n",
    "\n",
    "#Create For Loop\n",
    "for citynum in cityid:\n",
    "    search_url = f\"https://developers.zomato.com/api/v2.1/search?entity_id={citynum}&entity_type=city&start={show_page}\"\n",
    "    data = requests.get(search_url, headers={\"user-key\" : apikey}).json()\n",
    "    for page in range(5):\n",
    "        for count in range(resto_num):\n",
    "            try: \n",
    "                rest_id = data[\"restaurants\"][count][\"restaurant\"][\"id\"]\n",
    "                rest_name = data[\"restaurants\"][count][\"restaurant\"][\"name\"]\n",
    "                rest_cuis = data[\"restaurants\"][count][\"restaurant\"][\"cuisines\"]\n",
    "                rest_local = data[\"restaurants\"][count][\"restaurant\"][\"location\"][\"locality\"]\n",
    "                rest_city = data[\"restaurants\"][count][\"restaurant\"][\"location\"][\"city\"]\n",
    "                rest_lat = data[\"restaurants\"][count][\"restaurant\"][\"location\"][\"latitude\"]\n",
    "                rest_long = data[\"restaurants\"][count][\"restaurant\"][\"location\"][\"longitude\"]\n",
    "                rest_rate_num = data[\"restaurants\"][count][\"restaurant\"][\"all_reviews_count\"]\n",
    "                rest_rate = data[\"restaurants\"][count][\"restaurant\"][\"user_rating\"][\"aggregate_rating\"]\n",
    "                rest_delivery = data[\"restaurants\"][count][\"restaurant\"][\"highlights\"]\n",
    "                \n",
    "                #Check if they Deliver \n",
    "                theydelivery = False\n",
    "                for doesdelivery in rest_delivery:\n",
    "                    if doesdelivery == 'Delivery':\n",
    "                        theydelivery = True\n",
    "\n",
    "                if theydelivery == True:\n",
    "                    rest_delivery = \"Yes\"\n",
    "                else:\n",
    "                    rest_delivery = \"No\"\n",
    "\n",
    "                #Append Results to List\n",
    "                rest_id_list.append(rest_id)\n",
    "                rest_name_list.append(rest_name)\n",
    "                rest_cuis_list.append(rest_cuis)\n",
    "                rest_local_list.append(rest_local)\n",
    "                rest_city_list.append(rest_city)\n",
    "                rest_lat_list.append(rest_lat)\n",
    "                rest_long_list.append(rest_long)\n",
    "                rest_rate_list.append(rest_rate)\n",
    "                rest_ratenum_list.append(rest_rate_num)\n",
    "                rest_delivery_list.append(rest_delivery)\n",
    "                \n",
    "                #Repeat\n",
    "                if count == 19:\n",
    "                    show_page = show_page + 20\n",
    "                    search_url = f\"https://developers.zomato.com/api/v2.1/search?entity_id={citynum}&entity_type=city&start={show_page}\"\n",
    "                    data = requests.get(search_url, headers={\"user-key\" : apikey}).json()\n",
    "                    count = 0\n",
    "            except:\n",
    "                print(\"error\")\n",
    "    count = 0\n",
    "    page = 0\n",
    "    show_page = 0\n",
    "\n",
    "\n",
    "#Check for Errors\n",
    "try:            \n",
    "    restaurants_df = pd.DataFrame({\n",
    "        \"Restaurant ID\":rest_id_list,\n",
    "        \"Name\":rest_name_list,\n",
    "        \"Cuisine\":rest_cuis_list,\n",
    "        \"Locality\":rest_local_list,\n",
    "        \"City\":rest_city_list,\n",
    "        \"Latitude\":rest_lat_list,\n",
    "        \"Longitude\":rest_long_list,\n",
    "        \"Rating\":rest_rate_list,\n",
    "        \"Total Number Ratings\": rest_ratenum_list,\n",
    "        \"Delivery\":rest_delivery_list\n",
    "    })\n",
    "except:\n",
    "    print(len(rest_id_list))\n",
    "    print(len(rest_name_list))\n",
    "    print(len(rest_cuis_list))\n",
    "    print(len(rest_local_list))\n",
    "    print(len(rest_city_list))\n",
    "    print(len(rest_lat_list))\n",
    "    print(len(rest_long_list))\n",
    "    print(len(rest_rate_list))\n",
    "    print(len(rest_review_list))\n",
    "    print(len(rest_delivery_list))\n",
    "    \n",
    "#Drop Duplicate Results    \n",
    "restaurants_df = restaurants_df.drop_duplicates()"
   ]
  },
  {
   "cell_type": "code",
   "execution_count": 6,
   "metadata": {},
   "outputs": [],
   "source": [
    "#Sort DataFrame by Rating\n",
    "restaurants_df = restaurants_df.sort_values(by=[\"Rating\"],ascending=False)\n",
    "\n",
    "#Print DataFrame\n",
    "reshaped = \\\n",
    "(restaurants_df.set_index(restaurants_df.columns.drop('Cuisine',1).tolist())\n",
    "   .Cuisine.str.split(', ', expand=True)\n",
    "   .stack()\n",
    "   .reset_index()\n",
    "   .rename(columns={0:'Cuisine'})\n",
    "   .loc[:, restaurants_df.columns]\n",
    ")\n",
    "\n",
    "reshaped_df = pd.DataFrame(reshaped)\n",
    "\n",
    "#Get Top Restaurants in Perth\n",
    "perth_top = reshaped_df.loc[reshaped_df[\"City\"]==\"Perth\"]\n",
    "\n",
    "#Get Top Restaurants in Melbourne\n",
    "melbourne_top = reshaped_df.loc[reshaped_df[\"City\"]==\"Melbourne\"]\n",
    "\n",
    "#Get Top Restaurants in Sydney\n",
    "sydney_top = reshaped_df.loc[reshaped_df[\"City\"]==\"Sydney\"]"
   ]
  },
  {
   "cell_type": "code",
   "execution_count": 7,
   "metadata": {},
   "outputs": [
    {
     "data": {
      "application/vnd.jupyter.widget-view+json": {
       "model_id": "3b810e19aff54b298da2d2f4c6f84da7",
       "version_major": 2,
       "version_minor": 0
      },
      "text/plain": [
       "Figure(layout=FigureLayout(height='420px'))"
      ]
     },
     "metadata": {},
     "output_type": "display_data"
    }
   ],
   "source": [
    "#Set Longitude and Latitude\n",
    "locations = melbourne_top[[\"Latitude\", \"Longitude\"]].astype(float)\n",
    "\n",
    "#Set 'Rating' as Weights\n",
    "rating = melbourne_top[\"Rating\"].astype(float)\n",
    "\n",
    "#Plot Map\n",
    "figure = gmaps.figure()\n",
    "\n",
    "#Set Heat Map Layer Parameters\n",
    "heat_layer = gmaps.heatmap_layer(locations, weights=rating,\n",
    "                                 dissipating=True, max_intensity=50, point_radius=20)\n",
    "#Set Heat Map Layer\n",
    "figure.add_layer(heat_layer)\n",
    "\n",
    "#Display Map\n",
    "figure"
   ]
  },
  {
   "cell_type": "code",
   "execution_count": 8,
   "metadata": {},
   "outputs": [
    {
     "data": {
      "application/vnd.jupyter.widget-view+json": {
       "model_id": "b882cf6de09c425a8b069d9738603f0e",
       "version_major": 2,
       "version_minor": 0
      },
      "text/plain": [
       "Figure(layout=FigureLayout(height='420px'))"
      ]
     },
     "metadata": {},
     "output_type": "display_data"
    }
   ],
   "source": [
    "#Set Longitude and Latitude\n",
    "locations = sydney_top[[\"Latitude\", \"Longitude\"]].astype(float)\n",
    "\n",
    "#Set 'Rating' as Weights\n",
    "rating = sydney_top[\"Rating\"].astype(float)\n",
    "\n",
    "#Plot Map\n",
    "figure = gmaps.figure()\n",
    "\n",
    "#Set Heat Map Layer Parameters\n",
    "heat_layer = gmaps.heatmap_layer(locations, weights=rating,\n",
    "                                 dissipating=True, max_intensity=50, point_radius=20)\n",
    "#Set Heat Map Layer \n",
    "figure.add_layer(heat_layer)\n",
    "\n",
    "#Display Map\n",
    "figure"
   ]
  },
  {
   "cell_type": "code",
   "execution_count": 9,
   "metadata": {},
   "outputs": [
    {
     "data": {
      "application/vnd.jupyter.widget-view+json": {
       "model_id": "4b60a9e3c0f849d7bda2138f8db765cc",
       "version_major": 2,
       "version_minor": 0
      },
      "text/plain": [
       "Figure(layout=FigureLayout(height='420px'))"
      ]
     },
     "metadata": {},
     "output_type": "display_data"
    }
   ],
   "source": [
    "#Set Longitude and Latitude\n",
    "locations = perth_top[[\"Latitude\", \"Longitude\"]].astype(float)\n",
    "\n",
    "#Set 'Rating' as Weights\n",
    "rating = perth_top[\"Rating\"].astype(float)\n",
    "\n",
    "#Plot Map\n",
    "figure = gmaps.figure()\n",
    "\n",
    "#Set Heat Map Layer Parameters\n",
    "heat_layer = gmaps.heatmap_layer(locations, weights=rating,\n",
    "                                 dissipating=True, max_intensity=50, point_radius=20)\n",
    "#Set Heat Map Layer \n",
    "figure.add_layer(heat_layer)\n",
    "\n",
    "#Display Map\n",
    "figure"
   ]
  },
  {
   "cell_type": "code",
   "execution_count": 19,
   "metadata": {},
   "outputs": [],
   "source": [
    "#Get Zomato Restaurant CSV file\n",
    "multi_city = \"Multi_Restaurant_Data.csv\"\n",
    "\n",
    "#Read Zomato Restaurant CSV file\n",
    "multi_df = pd.read_csv(multi_city)\n",
    "\n",
    "#Get Gourmet Traveller 2019 Ratings CSV file\n",
    "gt_resto_rating = \"GT_Top_Restaurants.csv\"\n",
    "\n",
    "#Read Gourmet Traveller 2019 Ratings CSV file\n",
    "gt_resto_rating_df = pd.read_csv(gt_resto_rating)\n",
    "\n",
    "#Get Gourmet Traveller 2019 without Ratings CSV file\n",
    "gt_resto = \"GT_Top_Resto.csv\"\n",
    "\n",
    "#Read Gourmet Traveller 2019 without Ratings CSV file\n",
    "gt_resto_df = pd.read_csv(gt_resto)\n",
    "\n",
    "#Get Good Food Guide 2020 Ratings CSV file\n",
    "gf_resto_rating = \"GF_Top_Restaurants.csv\"\n",
    "\n",
    "#Read Good Food Guide 2020 Ratings CSV file\n",
    "gf_resto_rating_df = pd.read_csv(gf_resto_rating)\n",
    "\n",
    "#Get Good Food Guide 2020 without Ratings CSV file\n",
    "gf_resto = \"GF_Top_Resto.csv\"\n",
    "\n",
    "#Read Good Food Guide 2020 without Ratings CSV file\n",
    "gf_resto_df = pd.read_csv(gf_resto)\n",
    "\n",
    "#Merge Zomato Restaurant and Gourmet Traveller 2019 without Ratings DataFrames\n",
    "merged_gtzom_resto = pd.merge(multi_df, gt_resto_df, on='Name', how='inner')\n",
    "\n",
    "#Merge Zomato Restaurant and Good Food Guide 2020 without Ratings DataFrames\n",
    "merged_gfzom_resto = pd.merge(multi_df, gf_resto_df, on='Name', how='inner')"
   ]
  },
  {
   "cell_type": "code",
   "execution_count": 26,
   "metadata": {},
   "outputs": [
    {
     "data": {
      "application/vnd.jupyter.widget-view+json": {
       "model_id": "1699f3bf3a364ae1b7538179878596a7",
       "version_major": 2,
       "version_minor": 0
      },
      "text/plain": [
       "Figure(layout=FigureLayout(height='420px'))"
      ]
     },
     "metadata": {},
     "output_type": "display_data"
    }
   ],
   "source": [
    "#Set Longitude and Latitude\n",
    "locations = gt_resto_rating_df[[\"Latitude\", \"Longitude\"]].astype(float)\n",
    "\n",
    "#Set 'Rating' as Weights\n",
    "rating = gt_resto_rating_df[\"Rating\"].astype(float)\n",
    "\n",
    "#Plot Map\n",
    "figure = gmaps.figure()\n",
    "\n",
    "#Set Heat Map Layer Parameters\n",
    "heat_layer = gmaps.heatmap_layer(locations, weights=rating,\n",
    "                                 dissipating=True, max_intensity=50, point_radius=20)\n",
    "#Set Heat Map Layer \n",
    "figure.add_layer(heat_layer)\n",
    "\n",
    "#Display Map\n",
    "figure"
   ]
  },
  {
   "cell_type": "code",
   "execution_count": 23,
   "metadata": {},
   "outputs": [
    {
     "data": {
      "application/vnd.jupyter.widget-view+json": {
       "model_id": "dd0a007e5d08448ca80e3ec3c44c916a",
       "version_major": 2,
       "version_minor": 0
      },
      "text/plain": [
       "Figure(layout=FigureLayout(height='420px'))"
      ]
     },
     "metadata": {},
     "output_type": "display_data"
    }
   ],
   "source": [
    "#Set Longitude and Latitude\n",
    "locations = merged_gtzom_resto[[\"Latitude\", \"Longitude\"]].astype(float)\n",
    "\n",
    "#Set 'Rating' as Weights\n",
    "rating = merged_gtzom_resto[\"Rating\"].astype(float)\n",
    "\n",
    "#Plot Map\n",
    "figure = gmaps.figure()\n",
    "\n",
    "#Set Heat Map Layer Parameters\n",
    "heat_layer = gmaps.heatmap_layer(locations, weights=rating,\n",
    "                                 dissipating=True, max_intensity=50, point_radius=20)\n",
    "\n",
    "#Add Heat Map Layer\n",
    "figure.add_layer(heat_layer)\n",
    "\n",
    "#Add Restaurant Markers to Heat Map\n",
    "info_box_template = \"\"\"\n",
    "<dl>\n",
    "<dt>Name</dt><dd>{Name}</dd>\n",
    "<dt>City</dt><dd>{City}</dd>\n",
    "</dl>\n",
    "\"\"\"\n",
    "#Store the DataFrame Row\n",
    "Name_info = [info_box_template.format(**row) for index, row in merged_gtzom_resto.iterrows()]\n",
    "locations = merged_gtzom_resto[[\"Latitude\", \"Longitude\"]]\n",
    "markers = gmaps.marker_layer(locations, info_box_content=Name_info)\n",
    "\n",
    "#Add Marker Layer on top of Heat Map\n",
    "markers = gmaps.marker_layer(locations)\n",
    "figure.add_layer(markers)\n",
    "\n",
    "#Display Map\n",
    "figure"
   ]
  },
  {
   "cell_type": "code",
   "execution_count": 24,
   "metadata": {},
   "outputs": [
    {
     "data": {
      "application/vnd.jupyter.widget-view+json": {
       "model_id": "c8975f787a924d088190bc5159834ec4",
       "version_major": 2,
       "version_minor": 0
      },
      "text/plain": [
       "Figure(layout=FigureLayout(height='420px'))"
      ]
     },
     "metadata": {},
     "output_type": "display_data"
    }
   ],
   "source": [
    "#Set Longitude and Latitude\n",
    "locations = gf_resto_rating_df[[\"Latitude\", \"Longitude\"]].astype(float)\n",
    "\n",
    "#Set 'Rating' as Weights\n",
    "rating = gf_resto_rating_df[\"Rating\"].astype(float)\n",
    "\n",
    "#Plot Map\n",
    "figure = gmaps.figure()\n",
    "\n",
    "#Set Heat Map Layer Parameters\n",
    "heat_layer = gmaps.heatmap_layer(locations, weights=rating,\n",
    "                                 dissipating=True, max_intensity=50, point_radius=20)\n",
    "#Set Heat Map Layer \n",
    "figure.add_layer(heat_layer)\n",
    "\n",
    "#Display Map\n",
    "figure"
   ]
  },
  {
   "cell_type": "code",
   "execution_count": 25,
   "metadata": {},
   "outputs": [
    {
     "data": {
      "application/vnd.jupyter.widget-view+json": {
       "model_id": "b60653e6bbfa4020978678d6bc303243",
       "version_major": 2,
       "version_minor": 0
      },
      "text/plain": [
       "Figure(layout=FigureLayout(height='420px'))"
      ]
     },
     "metadata": {},
     "output_type": "display_data"
    }
   ],
   "source": [
    "#Set Longitude and Latitude\n",
    "locations = merged_gfzom_resto[[\"Latitude\", \"Longitude\"]].astype(float)\n",
    "\n",
    "#Set 'Rating' as Weights\n",
    "rating = merged_gfzom_resto[\"Rating\"].astype(float)\n",
    "\n",
    "#Plot Map\n",
    "figure = gmaps.figure()\n",
    "\n",
    "#Set Heat Map Layer Parameters\n",
    "heat_layer = gmaps.heatmap_layer(locations, weights=rating,\n",
    "                                 dissipating=True, max_intensity=50, point_radius=20)\n",
    "\n",
    "#Add Heat Map Layer\n",
    "figure.add_layer(heat_layer)\n",
    "\n",
    "#Add Restaurant Markers to Heat Map\n",
    "info_box_template = \"\"\"\n",
    "<dl>\n",
    "<dt>Name</dt><dd>{Name}</dd>\n",
    "<dt>City</dt><dd>{City}</dd>\n",
    "</dl>\n",
    "\"\"\"\n",
    "#Store the DataFrame Row\n",
    "Name_info = [info_box_template.format(**row) for index, row in merged_gfzom_resto.iterrows()]\n",
    "locations = merged_gfzom_resto[[\"Latitude\", \"Longitude\"]]\n",
    "markers = gmaps.marker_layer(locations, info_box_content=Name_info)\n",
    "\n",
    "#Add Marker Layer on top of Heat Map\n",
    "markers = gmaps.marker_layer(locations)\n",
    "figure.add_layer(markers)\n",
    "\n",
    "#Display Map\n",
    "figure"
   ]
  },
  {
   "cell_type": "code",
   "execution_count": null,
   "metadata": {},
   "outputs": [],
   "source": []
  }
 ],
 "metadata": {
  "kernelspec": {
   "display_name": "Python 3",
   "language": "python",
   "name": "python3"
  },
  "language_info": {
   "codemirror_mode": {
    "name": "ipython",
    "version": 3
   },
   "file_extension": ".py",
   "mimetype": "text/x-python",
   "name": "python",
   "nbconvert_exporter": "python",
   "pygments_lexer": "ipython3",
   "version": "3.8.5"
  }
 },
 "nbformat": 4,
 "nbformat_minor": 4
}
